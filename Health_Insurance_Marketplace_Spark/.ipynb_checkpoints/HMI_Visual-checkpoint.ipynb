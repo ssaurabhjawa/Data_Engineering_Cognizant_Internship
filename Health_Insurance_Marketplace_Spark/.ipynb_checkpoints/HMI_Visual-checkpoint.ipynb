{
 "cells": [
  {
   "cell_type": "code",
   "execution_count": 4,
   "metadata": {},
   "outputs": [],
   "source": [
    "# Work towards the following requirements:\n",
    "# a) Use “Service Area Dataset” from MongoDB. Find and plot the count\n",
    "# of ServiceAreaName, SourceName , and BusinessYear across the\n",
    "# country each state?\n",
    "\n",
    "# b) Use “Service Area Dataset” from MongoDB. Find and plot the count\n",
    "# of “ sources ” across the country.\n",
    "\n",
    "# c) Use the “Benefit-Cost Sharing” dataset from MongoDB. Display a\n",
    "# table of the names of the plans with the most customers by state, the\n",
    "# number of customers for that plan and the total number of customers.\n",
    "# ( Hint: use Statecode, benefitName)\n",
    "\n",
    "# d) Use the “Benefit Cost Sharing” dataset from MongoDB. Find and\n",
    "# plot the number of benefit plans in each state.\n",
    "\n",
    "# e) Use the “Insurance” dataset from MongoDB and find the number of\n",
    "# mothers who smoke and also have children.\n",
    "\n",
    "# f) Use the “Insurance” dataset from MongoDB. Find out which region\n",
    "# has the highest rate of smokers. Plot the results for each region."
   ]
  },
  {
   "cell_type": "code",
   "execution_count": 1,
   "metadata": {},
   "outputs": [],
   "source": [
    "import pymongo as mongo\n",
    "import pandas as pd\n",
    "from pandas import Series, DataFrame\n",
    "import matplotlib.pyplot as plt\n",
    "\n",
    "client = mongo.MongoClient()"
   ]
  },
  {
   "cell_type": "code",
   "execution_count": 2,
   "metadata": {},
   "outputs": [],
   "source": [
    "db = client.Health_Insurance_Marketplace"
   ]
  },
  {
   "cell_type": "code",
   "execution_count": 3,
   "metadata": {},
   "outputs": [],
   "source": [
    "service_area_c = db.service_area\n",
    "benefit_cost_c = db.benefit_cost\n",
    "insurance_c = db.insurance"
   ]
  },
  {
   "cell_type": "code",
   "execution_count": 4,
   "metadata": {},
   "outputs": [],
   "source": [
    "df_se = pd.DataFrame(list(service_area_c.find()))\n",
    "df_bc = pd.DataFrame(list(benefit_cost_c.find()))\n",
    "df_ic = pd.DataFrame(list(insurance_c.find()))"
   ]
  },
  {
   "cell_type": "code",
   "execution_count": 5,
   "metadata": {
    "scrolled": true
   },
   "outputs": [],
   "source": [
    "df_se.dropna(inplace = True) "
   ]
  },
  {
   "cell_type": "code",
   "execution_count": 7,
   "metadata": {},
   "outputs": [
    {
     "data": {
      "text/html": [
       "<div>\n",
       "<style scoped>\n",
       "    .dataframe tbody tr th:only-of-type {\n",
       "        vertical-align: middle;\n",
       "    }\n",
       "\n",
       "    .dataframe tbody tr th {\n",
       "        vertical-align: top;\n",
       "    }\n",
       "\n",
       "    .dataframe thead th {\n",
       "        text-align: right;\n",
       "    }\n",
       "</style>\n",
       "<table border=\"1\" class=\"dataframe\">\n",
       "  <thead>\n",
       "    <tr style=\"text-align: right;\">\n",
       "      <th></th>\n",
       "      <th>BusinessYear</th>\n",
       "      <th>County</th>\n",
       "      <th>CoverEntireState</th>\n",
       "      <th>DentalOnlyPlan</th>\n",
       "      <th>ImportDate</th>\n",
       "      <th>IssuerId</th>\n",
       "      <th>IssuerId2</th>\n",
       "      <th>MarketCoverage</th>\n",
       "      <th>PartialCounty</th>\n",
       "      <th>PartialCountyJustification</th>\n",
       "      <th>RowNumber</th>\n",
       "      <th>ServiceAreaId</th>\n",
       "      <th>ServiceAreaName</th>\n",
       "      <th>SourceName</th>\n",
       "      <th>StateCode</th>\n",
       "      <th>StateCode2</th>\n",
       "      <th>VersionNum</th>\n",
       "      <th>ZipCodes</th>\n",
       "      <th>_id</th>\n",
       "    </tr>\n",
       "  </thead>\n",
       "  <tbody>\n",
       "    <tr>\n",
       "      <th>count</th>\n",
       "      <td>42247</td>\n",
       "      <td>42247</td>\n",
       "      <td>42247</td>\n",
       "      <td>42247</td>\n",
       "      <td>42247</td>\n",
       "      <td>42247</td>\n",
       "      <td>42247</td>\n",
       "      <td>42247</td>\n",
       "      <td>42247</td>\n",
       "      <td>42247</td>\n",
       "      <td>42247</td>\n",
       "      <td>42247</td>\n",
       "      <td>42247</td>\n",
       "      <td>42247</td>\n",
       "      <td>42247</td>\n",
       "      <td>42247</td>\n",
       "      <td>42247</td>\n",
       "      <td>42247</td>\n",
       "      <td>42247</td>\n",
       "    </tr>\n",
       "    <tr>\n",
       "      <th>unique</th>\n",
       "      <td>3</td>\n",
       "      <td>2581</td>\n",
       "      <td>78</td>\n",
       "      <td>322</td>\n",
       "      <td>272</td>\n",
       "      <td>910</td>\n",
       "      <td>910</td>\n",
       "      <td>556</td>\n",
       "      <td>567</td>\n",
       "      <td>231</td>\n",
       "      <td>478</td>\n",
       "      <td>498</td>\n",
       "      <td>1778</td>\n",
       "      <td>3</td>\n",
       "      <td>39</td>\n",
       "      <td>39</td>\n",
       "      <td>23</td>\n",
       "      <td>312</td>\n",
       "      <td>42247</td>\n",
       "    </tr>\n",
       "    <tr>\n",
       "      <th>top</th>\n",
       "      <td>2015</td>\n",
       "      <td>No</td>\n",
       "      <td>No</td>\n",
       "      <td></td>\n",
       "      <td>2015-08-26 09:56:12</td>\n",
       "      <td>88380</td>\n",
       "      <td>88380</td>\n",
       "      <td></td>\n",
       "      <td>No</td>\n",
       "      <td></td>\n",
       "      <td>13</td>\n",
       "      <td>MIS001</td>\n",
       "      <td>\"HealthKeepers</td>\n",
       "      <td>SERFF</td>\n",
       "      <td>MI</td>\n",
       "      <td>MI</td>\n",
       "      <td>6</td>\n",
       "      <td></td>\n",
       "      <td>5db0e37274e9ab3a504310a4</td>\n",
       "    </tr>\n",
       "    <tr>\n",
       "      <th>freq</th>\n",
       "      <td>17495</td>\n",
       "      <td>2145</td>\n",
       "      <td>37929</td>\n",
       "      <td>19877</td>\n",
       "      <td>2051</td>\n",
       "      <td>1446</td>\n",
       "      <td>1446</td>\n",
       "      <td>19494</td>\n",
       "      <td>37465</td>\n",
       "      <td>41253</td>\n",
       "      <td>2410</td>\n",
       "      <td>4149</td>\n",
       "      <td>1446</td>\n",
       "      <td>20188</td>\n",
       "      <td>6217</td>\n",
       "      <td>6217</td>\n",
       "      <td>5244</td>\n",
       "      <td>39120</td>\n",
       "      <td>1</td>\n",
       "    </tr>\n",
       "  </tbody>\n",
       "</table>\n",
       "</div>"
      ],
      "text/plain": [
       "       BusinessYear County CoverEntireState DentalOnlyPlan  \\\n",
       "count         42247  42247            42247          42247   \n",
       "unique            3   2581               78            322   \n",
       "top            2015     No               No                  \n",
       "freq          17495   2145            37929          19877   \n",
       "\n",
       "                 ImportDate IssuerId IssuerId2 MarketCoverage PartialCounty  \\\n",
       "count                 42247    42247     42247          42247         42247   \n",
       "unique                  272      910       910            556           567   \n",
       "top     2015-08-26 09:56:12    88380     88380                           No   \n",
       "freq                   2051     1446      1446          19494         37465   \n",
       "\n",
       "       PartialCountyJustification RowNumber ServiceAreaId ServiceAreaName  \\\n",
       "count                       42247     42247         42247           42247   \n",
       "unique                        231       478           498            1778   \n",
       "top                                      13        MIS001  \"HealthKeepers   \n",
       "freq                        41253      2410          4149            1446   \n",
       "\n",
       "       SourceName StateCode StateCode2 VersionNum ZipCodes  \\\n",
       "count       42247     42247      42247      42247    42247   \n",
       "unique          3        39         39         23      312   \n",
       "top         SERFF        MI         MI          6            \n",
       "freq        20188      6217       6217       5244    39120   \n",
       "\n",
       "                             _id  \n",
       "count                      42247  \n",
       "unique                     42247  \n",
       "top     5db0e37274e9ab3a504310a4  \n",
       "freq                           1  "
      ]
     },
     "execution_count": 7,
     "metadata": {},
     "output_type": "execute_result"
    }
   ],
   "source": [
    "#de_sed = df_se.describe(include=['SourceName'])\n",
    "df_se.describe()"
   ]
  },
  {
   "cell_type": "markdown",
   "metadata": {},
   "source": [
    "### Work towards the following requirements:\n",
    "### a) Use “Service Area Dataset” from MongoDB. Find and plot the count of ServiceAreaName, SourceName , \n",
    "### and BusinessYear across the country each state?"
   ]
  },
  {
   "cell_type": "code",
   "execution_count": 8,
   "metadata": {
    "scrolled": true
   },
   "outputs": [
    {
     "data": {
      "text/plain": [
       "<matplotlib.axes._subplots.AxesSubplot at 0x1c304e9c0f0>"
      ]
     },
     "execution_count": 8,
     "metadata": {},
     "output_type": "execute_result"
    },
    {
     "data": {
      "image/png": "[encoded data removed]",
      "text/plain": [
       "<Figure size 1080x504 with 1 Axes>"
      ]
     },
     "metadata": {
      "needs_background": "light"
     },
     "output_type": "display_data"
    }
   ],
   "source": [
    "df_sc_sn = df_se.groupby([\"StateCode\",\"SourceName\"]).SourceName.count()\n",
    "df_sc_sn.plot.bar(figsize=(15,7))"
   ]
  },
  {
   "cell_type": "code",
   "execution_count": 12,
   "metadata": {},
   "outputs": [
    {
     "data": {
      "text/plain": [
       "StateCode  SourceName\n",
       "AK         HIOS            35\n",
       "           OPM              6\n",
       "AL         HIOS           175\n",
       "           OPM              1\n",
       "AR         OPM              3\n",
       "           SERFF          364\n",
       "AZ         HIOS           232\n",
       "DE         OPM              3\n",
       "           SERFF           53\n",
       "FL         HIOS          1305\n",
       "GA         HIOS          2241\n",
       "           OPM              3\n",
       "HI         SERFF            6\n",
       "IA         SERFF          514\n",
       "ID         SERFF          188\n",
       "IL         HIOS             1\n",
       "           OPM            108\n",
       "           SERFF         2107\n",
       "IN         HIOS          1147\n",
       "           OPM              3\n",
       "KS         OPM            309\n",
       "           SERFF         1728\n",
       "LA         HIOS           491\n",
       "           OPM              3\n",
       "ME         OPM             48\n",
       "           SERFF          157\n",
       "MI         HIOS             1\n",
       "           OPM            139\n",
       "           SERFF         6077\n",
       "MO         HIOS          2022\n",
       "                         ... \n",
       "NJ         HIOS           343\n",
       "NM         OPM              4\n",
       "           SERFF          150\n",
       "NV         OPM              8\n",
       "           SERFF          126\n",
       "OH         HIOS             1\n",
       "           SERFF         1665\n",
       "OK         HIOS           953\n",
       "           OPM             79\n",
       "OR         OPM              2\n",
       "           SERFF          625\n",
       "PA         HIOS          3525\n",
       "           OPM            267\n",
       "SC         HIOS           240\n",
       "           OPM              4\n",
       "SD         SERFF          220\n",
       "TN         HIOS           906\n",
       "           OPM              3\n",
       "TX         HIOS          3146\n",
       "           OPM            256\n",
       "UT         OPM              2\n",
       "           SERFF          353\n",
       "VA         HIOS             1\n",
       "           OPM            432\n",
       "           SERFF         4242\n",
       "WI         HIOS          1315\n",
       "           OPM            102\n",
       "WV         OPM              3\n",
       "           SERFF          104\n",
       "WY         HIOS            46\n",
       "Name: SourceName, Length: 70, dtype: int64"
      ]
     },
     "execution_count": 12,
     "metadata": {},
     "output_type": "execute_result"
    }
   ],
   "source": [
    "df_sc_sn"
   ]
  },
  {
   "cell_type": "code",
   "execution_count": 9,
   "metadata": {},
   "outputs": [
    {
     "data": {
      "text/plain": [
       "<matplotlib.axes._subplots.AxesSubplot at 0x1c3052f74a8>"
      ]
     },
     "execution_count": 9,
     "metadata": {},
     "output_type": "execute_result"
    },
    {
     "data": {
      "image/png": "[encoded data removed]",
      "text/plain": [
       "<Figure size 1080x504 with 1 Axes>"
      ]
     },
     "metadata": {
      "needs_background": "light"
     },
     "output_type": "display_data"
    }
   ],
   "source": [
    "df_SA_plot = df_se.groupby(\"StateCode\")['ServiceAreaName'].nunique()\n",
    "df_SA_plot.plot(kind=\"bar\",figsize=(15,7))"
   ]
  },
  {
   "cell_type": "code",
   "execution_count": 10,
   "metadata": {},
   "outputs": [
    {
     "data": {
      "text/plain": [
       "<matplotlib.axes._subplots.AxesSubplot at 0x1c308a36278>"
      ]
     },
     "execution_count": 10,
     "metadata": {},
     "output_type": "execute_result"
    },
    {
     "data": {
      "image/png": "[encoded data removed]",
      "text/plain": [
       "<Figure size 1080x504 with 1 Axes>"
      ]
     },
     "metadata": {
      "needs_background": "light"
     },
     "output_type": "display_data"
    }
   ],
   "source": [
    "df_sc_by = df_se.groupby([\"StateCode\"]).BusinessYear.count()\n",
    "df_sc_by.plot(kind=\"bar\",figsize=(15,7))"
   ]
  },
  {
   "cell_type": "markdown",
   "metadata": {},
   "source": [
    "### b) Use “Service Area Dataset” from MongoDB. Find and plot the count of “ sources ” across the country."
   ]
  },
  {
   "cell_type": "code",
   "execution_count": 14,
   "metadata": {
    "scrolled": true
   },
   "outputs": [
    {
     "data": {
      "text/plain": [
       "<matplotlib.axes._subplots.AxesSubplot at 0x264cd512c88>"
      ]
     },
     "execution_count": 14,
     "metadata": {},
     "output_type": "execute_result"
    },
    {
     "data": {
      "image/png": "[encoded data removed]",
      "text/plain": [
       "<Figure size 1080x504 with 1 Axes>"
      ]
     },
     "metadata": {
      "needs_background": "light"
     },
     "output_type": "display_data"
    }
   ],
   "source": [
    "df_se_plot = df_se.groupby(\"StateCode\")['SourceName'].count()\n",
    "df_se_plot.plot(kind=\"bar\",figsize=(15,7))"
   ]
  },
  {
   "cell_type": "markdown",
   "metadata": {},
   "source": [
    "#### c) Use the “Benefit-Cost Sharing” dataset from MongoDB. Display a table of the names of the plans with the most \n",
    "#### customers by state, the number of customers for that plan and the total number of customers."
   ]
  },
  {
   "cell_type": "code",
   "execution_count": 11,
   "metadata": {
    "scrolled": true
   },
   "outputs": [
    {
     "data": {
      "text/html": [
       "<div>\n",
       "<style scoped>\n",
       "    .dataframe tbody tr th:only-of-type {\n",
       "        vertical-align: middle;\n",
       "    }\n",
       "\n",
       "    .dataframe tbody tr th {\n",
       "        vertical-align: top;\n",
       "    }\n",
       "\n",
       "    .dataframe thead tr th {\n",
       "        text-align: left;\n",
       "    }\n",
       "\n",
       "    .dataframe thead tr:last-of-type th {\n",
       "        text-align: right;\n",
       "    }\n",
       "</style>\n",
       "<table border=\"1\" class=\"dataframe\">\n",
       "  <thead>\n",
       "    <tr>\n",
       "      <th></th>\n",
       "      <th colspan=\"4\" halign=\"left\">BenefitName</th>\n",
       "    </tr>\n",
       "    <tr>\n",
       "      <th></th>\n",
       "      <th>count</th>\n",
       "      <th>unique</th>\n",
       "      <th>top</th>\n",
       "      <th>freq</th>\n",
       "    </tr>\n",
       "    <tr>\n",
       "      <th>StateCode</th>\n",
       "      <th></th>\n",
       "      <th></th>\n",
       "      <th></th>\n",
       "      <th></th>\n",
       "    </tr>\n",
       "  </thead>\n",
       "  <tbody>\n",
       "    <tr>\n",
       "      <th></th>\n",
       "      <td>59806</td>\n",
       "      <td>34</td>\n",
       "      <td>Other Practitioner Office Visit (Nurse</td>\n",
       "      <td>13651</td>\n",
       "    </tr>\n",
       "    <tr>\n",
       "      <th>AK</th>\n",
       "      <td>13385</td>\n",
       "      <td>72</td>\n",
       "      <td>Accidental Dental</td>\n",
       "      <td>241</td>\n",
       "    </tr>\n",
       "    <tr>\n",
       "      <th>AL</th>\n",
       "      <td>7199</td>\n",
       "      <td>103</td>\n",
       "      <td>Accidental Dental</td>\n",
       "      <td>194</td>\n",
       "    </tr>\n",
       "    <tr>\n",
       "      <th>AR</th>\n",
       "      <td>21909</td>\n",
       "      <td>77</td>\n",
       "      <td>Major Dental Care - Child</td>\n",
       "      <td>394</td>\n",
       "    </tr>\n",
       "    <tr>\n",
       "      <th>AZ</th>\n",
       "      <td>81253</td>\n",
       "      <td>111</td>\n",
       "      <td>Major Dental Care - Child</td>\n",
       "      <td>1307</td>\n",
       "    </tr>\n",
       "    <tr>\n",
       "      <th>DE</th>\n",
       "      <td>6910</td>\n",
       "      <td>100</td>\n",
       "      <td>Dental Check-Up for Children</td>\n",
       "      <td>151</td>\n",
       "    </tr>\n",
       "    <tr>\n",
       "      <th>FL</th>\n",
       "      <td>90996</td>\n",
       "      <td>131</td>\n",
       "      <td>Dental Check-Up for Children</td>\n",
       "      <td>1415</td>\n",
       "    </tr>\n",
       "    <tr>\n",
       "      <th>GA</th>\n",
       "      <td>26342</td>\n",
       "      <td>108</td>\n",
       "      <td>Routine Dental Services (Adult)</td>\n",
       "      <td>476</td>\n",
       "    </tr>\n",
       "    <tr>\n",
       "      <th>IA</th>\n",
       "      <td>36022</td>\n",
       "      <td>83</td>\n",
       "      <td>Routine Dental Services (Adult)</td>\n",
       "      <td>586</td>\n",
       "    </tr>\n",
       "    <tr>\n",
       "      <th>ID</th>\n",
       "      <td>25372</td>\n",
       "      <td>66</td>\n",
       "      <td>Orthodontia - Child</td>\n",
       "      <td>447</td>\n",
       "    </tr>\n",
       "    <tr>\n",
       "      <th>IL</th>\n",
       "      <td>50275</td>\n",
       "      <td>120</td>\n",
       "      <td>Major Dental Care - Child</td>\n",
       "      <td>733</td>\n",
       "    </tr>\n",
       "    <tr>\n",
       "      <th>IN</th>\n",
       "      <td>52165</td>\n",
       "      <td>74</td>\n",
       "      <td>Basic Dental Care - Child</td>\n",
       "      <td>834</td>\n",
       "    </tr>\n",
       "    <tr>\n",
       "      <th>KS</th>\n",
       "      <td>18457</td>\n",
       "      <td>70</td>\n",
       "      <td>Accidental Dental</td>\n",
       "      <td>317</td>\n",
       "    </tr>\n",
       "    <tr>\n",
       "      <th>LA</th>\n",
       "      <td>31988</td>\n",
       "      <td>105</td>\n",
       "      <td>Basic Dental Care - Child</td>\n",
       "      <td>531</td>\n",
       "    </tr>\n",
       "    <tr>\n",
       "      <th>ME</th>\n",
       "      <td>10280</td>\n",
       "      <td>76</td>\n",
       "      <td>Accidental Dental</td>\n",
       "      <td>181</td>\n",
       "    </tr>\n",
       "    <tr>\n",
       "      <th>MI</th>\n",
       "      <td>32844</td>\n",
       "      <td>157</td>\n",
       "      <td>Major Dental Care - Child</td>\n",
       "      <td>686</td>\n",
       "    </tr>\n",
       "    <tr>\n",
       "      <th>MO</th>\n",
       "      <td>14167</td>\n",
       "      <td>96</td>\n",
       "      <td>Accidental Dental</td>\n",
       "      <td>291</td>\n",
       "    </tr>\n",
       "    <tr>\n",
       "      <th>MS</th>\n",
       "      <td>10196</td>\n",
       "      <td>88</td>\n",
       "      <td>Accidental Dental</td>\n",
       "      <td>179</td>\n",
       "    </tr>\n",
       "    <tr>\n",
       "      <th>MT</th>\n",
       "      <td>13866</td>\n",
       "      <td>70</td>\n",
       "      <td>Accidental Dental</td>\n",
       "      <td>289</td>\n",
       "    </tr>\n",
       "    <tr>\n",
       "      <th>NC</th>\n",
       "      <td>22487</td>\n",
       "      <td>76</td>\n",
       "      <td>Routine Dental Services (Adult)</td>\n",
       "      <td>367</td>\n",
       "    </tr>\n",
       "    <tr>\n",
       "      <th>ND</th>\n",
       "      <td>14071</td>\n",
       "      <td>69</td>\n",
       "      <td>Accidental Dental</td>\n",
       "      <td>306</td>\n",
       "    </tr>\n",
       "    <tr>\n",
       "      <th>NE</th>\n",
       "      <td>22580</td>\n",
       "      <td>75</td>\n",
       "      <td>Routine Dental Services (Adult)</td>\n",
       "      <td>427</td>\n",
       "    </tr>\n",
       "    <tr>\n",
       "      <th>NH</th>\n",
       "      <td>3110</td>\n",
       "      <td>68</td>\n",
       "      <td>Orthodontia - Adult</td>\n",
       "      <td>71</td>\n",
       "    </tr>\n",
       "    <tr>\n",
       "      <th>NJ</th>\n",
       "      <td>18602</td>\n",
       "      <td>81</td>\n",
       "      <td>Accidental Dental</td>\n",
       "      <td>363</td>\n",
       "    </tr>\n",
       "    <tr>\n",
       "      <th>NM</th>\n",
       "      <td>14605</td>\n",
       "      <td>72</td>\n",
       "      <td>Accidental Dental</td>\n",
       "      <td>235</td>\n",
       "    </tr>\n",
       "    <tr>\n",
       "      <th>OH</th>\n",
       "      <td>58398</td>\n",
       "      <td>84</td>\n",
       "      <td>Routine Dental Services (Adult)</td>\n",
       "      <td>965</td>\n",
       "    </tr>\n",
       "    <tr>\n",
       "      <th>OK</th>\n",
       "      <td>26904</td>\n",
       "      <td>70</td>\n",
       "      <td>Accidental Dental</td>\n",
       "      <td>480</td>\n",
       "    </tr>\n",
       "    <tr>\n",
       "      <th>PA</th>\n",
       "      <td>52321</td>\n",
       "      <td>125</td>\n",
       "      <td>Routine Dental Services (Adult)</td>\n",
       "      <td>952</td>\n",
       "    </tr>\n",
       "    <tr>\n",
       "      <th>SC</th>\n",
       "      <td>15795</td>\n",
       "      <td>72</td>\n",
       "      <td>Accidental Dental</td>\n",
       "      <td>302</td>\n",
       "    </tr>\n",
       "    <tr>\n",
       "      <th>TN</th>\n",
       "      <td>29004</td>\n",
       "      <td>104</td>\n",
       "      <td>Accidental Dental</td>\n",
       "      <td>461</td>\n",
       "    </tr>\n",
       "    <tr>\n",
       "      <th>TX</th>\n",
       "      <td>47880</td>\n",
       "      <td>125</td>\n",
       "      <td>Major Dental Care - Child</td>\n",
       "      <td>829</td>\n",
       "    </tr>\n",
       "    <tr>\n",
       "      <th>VA</th>\n",
       "      <td>1440</td>\n",
       "      <td>72</td>\n",
       "      <td>Orthodontia - Adult</td>\n",
       "      <td>20</td>\n",
       "    </tr>\n",
       "    <tr>\n",
       "      <th>WI</th>\n",
       "      <td>109604</td>\n",
       "      <td>109</td>\n",
       "      <td>Major Dental Care - Adult</td>\n",
       "      <td>1604</td>\n",
       "    </tr>\n",
       "    <tr>\n",
       "      <th>WV</th>\n",
       "      <td>621</td>\n",
       "      <td>69</td>\n",
       "      <td>Prescription Drugs Other</td>\n",
       "      <td>9</td>\n",
       "    </tr>\n",
       "    <tr>\n",
       "      <th>WY</th>\n",
       "      <td>7720</td>\n",
       "      <td>85</td>\n",
       "      <td>Accidental Dental</td>\n",
       "      <td>160</td>\n",
       "    </tr>\n",
       "  </tbody>\n",
       "</table>\n",
       "</div>"
      ],
      "text/plain": [
       "          BenefitName                                                      \n",
       "                count unique                                     top   freq\n",
       "StateCode                                                                  \n",
       "                59806     34  Other Practitioner Office Visit (Nurse  13651\n",
       "AK              13385     72                       Accidental Dental    241\n",
       "AL               7199    103                       Accidental Dental    194\n",
       "AR              21909     77               Major Dental Care - Child    394\n",
       "AZ              81253    111               Major Dental Care - Child   1307\n",
       "DE               6910    100            Dental Check-Up for Children    151\n",
       "FL              90996    131            Dental Check-Up for Children   1415\n",
       "GA              26342    108         Routine Dental Services (Adult)    476\n",
       "IA              36022     83         Routine Dental Services (Adult)    586\n",
       "ID              25372     66                     Orthodontia - Child    447\n",
       "IL              50275    120               Major Dental Care - Child    733\n",
       "IN              52165     74               Basic Dental Care - Child    834\n",
       "KS              18457     70                       Accidental Dental    317\n",
       "LA              31988    105               Basic Dental Care - Child    531\n",
       "ME              10280     76                       Accidental Dental    181\n",
       "MI              32844    157               Major Dental Care - Child    686\n",
       "MO              14167     96                       Accidental Dental    291\n",
       "MS              10196     88                       Accidental Dental    179\n",
       "MT              13866     70                       Accidental Dental    289\n",
       "NC              22487     76         Routine Dental Services (Adult)    367\n",
       "ND              14071     69                       Accidental Dental    306\n",
       "NE              22580     75         Routine Dental Services (Adult)    427\n",
       "NH               3110     68                     Orthodontia - Adult     71\n",
       "NJ              18602     81                       Accidental Dental    363\n",
       "NM              14605     72                       Accidental Dental    235\n",
       "OH              58398     84         Routine Dental Services (Adult)    965\n",
       "OK              26904     70                       Accidental Dental    480\n",
       "PA              52321    125         Routine Dental Services (Adult)    952\n",
       "SC              15795     72                       Accidental Dental    302\n",
       "TN              29004    104                       Accidental Dental    461\n",
       "TX              47880    125               Major Dental Care - Child    829\n",
       "VA               1440     72                     Orthodontia - Adult     20\n",
       "WI             109604    109               Major Dental Care - Adult   1604\n",
       "WV                621     69                Prescription Drugs Other      9\n",
       "WY               7720     85                       Accidental Dental    160"
      ]
     },
     "execution_count": 11,
     "metadata": {},
     "output_type": "execute_result"
    }
   ],
   "source": [
    "df_bc[['BenefitName','StateCode']].groupby('StateCode').describe()"
   ]
  },
  {
   "cell_type": "markdown",
   "metadata": {},
   "source": [
    "#### d) Use the “Benefit Cost Sharing” dataset from MongoDB. Find and plot the number of benefit plans in each state."
   ]
  },
  {
   "cell_type": "code",
   "execution_count": 81,
   "metadata": {
    "scrolled": false
   },
   "outputs": [
    {
     "data": {
      "text/plain": [
       "<matplotlib.axes._subplots.AxesSubplot at 0x264e9017fd0>"
      ]
     },
     "execution_count": 81,
     "metadata": {},
     "output_type": "execute_result"
    },
    {
     "data": {
      "image/png": "[encoded data removed]",
      "text/plain": [
       "<Figure size 1080x504 with 1 Axes>"
      ]
     },
     "metadata": {
      "needs_background": "light"
     },
     "output_type": "display_data"
    }
   ],
   "source": [
    "df_bc_g = df_bc.groupby([\"StateCode\"]).BenefitName.count()\n",
    "df_bc_g.plot(kind=\"bar\",figsize=(15,7))"
   ]
  },
  {
   "cell_type": "markdown",
   "metadata": {},
   "source": [
    "#### e) Use the “Insurance” dataset from MongoDB and find the number of mothers who smoke and also have children."
   ]
  },
  {
   "cell_type": "code",
   "execution_count": 97,
   "metadata": {
    "scrolled": false
   },
   "outputs": [
    {
     "data": {
      "text/plain": [
       "62"
      ]
     },
     "execution_count": 97,
     "metadata": {},
     "output_type": "execute_result"
    }
   ],
   "source": [
    "#df_M_S_C = df_ic.loc[df_se['SourceName'] == ''].groupby(\"StateCode\").count()\n",
    "df_M = df_ic.loc[df_ic['sex'] == 'female']\n",
    "df_M_C = df_M.loc[df_M['children'] != '0']\n",
    "df_M_C_S = df_M_C.loc[df_M_C['smoker'] == 'yes']\n",
    "df_M_C_S.count()[0]"
   ]
  },
  {
   "cell_type": "markdown",
   "metadata": {},
   "source": [
    "#### f) Use the “Insurance” dataset from MongoDB. Find out which region has the highest rate of smokers. Plot the results for each region."
   ]
  },
  {
   "cell_type": "code",
   "execution_count": 120,
   "metadata": {},
   "outputs": [
    {
     "data": {
      "text/plain": [
       "region\n",
       "northeast    67\n",
       "northwest    58\n",
       "southeast    91\n",
       "southwest    58\n",
       "Name: smoker, dtype: int64"
      ]
     },
     "execution_count": 120,
     "metadata": {},
     "output_type": "execute_result"
    }
   ],
   "source": [
    "df_ic_s= df_ic.loc[df_ic['smoker'] == 'yes']\n",
    "df_ic_s_r = df_ic_s.groupby('region').count()\n",
    "df_ic_s_r.smoker"
   ]
  },
  {
   "cell_type": "code",
   "execution_count": 122,
   "metadata": {},
   "outputs": [
    {
     "data": {
      "text/plain": [
       "<matplotlib.axes._subplots.AxesSubplot at 0x264e9467cc0>"
      ]
     },
     "execution_count": 122,
     "metadata": {},
     "output_type": "execute_result"
    },
    {
     "data": {
      "image/png": "[encoded data removed]",
      "text/plain": [
       "<Figure size 432x288 with 1 Axes>"
      ]
     },
     "metadata": {
      "needs_background": "light"
     },
     "output_type": "display_data"
    }
   ],
   "source": [
    "df_ic_s_r.smoker.plot(kind=\"bar\")"
   ]
  },
  {
   "cell_type": "code",
   "execution_count": 123,
   "metadata": {},
   "outputs": [
    {
     "data": {
      "text/plain": [
       "91"
      ]
     },
     "execution_count": 123,
     "metadata": {},
     "output_type": "execute_result"
    }
   ],
   "source": [
    "df_ic_s_region = df_ic_s_r.smoker.max()"
   ]
  },
  {
   "cell_type": "code",
   "execution_count": null,
   "metadata": {},
   "outputs": [],
   "source": []
  }
 ],
 "metadata": {
  "kernelspec": {
   "display_name": "Python 3",
   "language": "python",
   "name": "python3"
  },
  "language_info": {
   "codemirror_mode": {
    "name": "ipython",
    "version": 3
   },
   "file_extension": ".py",
   "mimetype": "text/x-python",
   "name": "python",
   "nbconvert_exporter": "python",
   "pygments_lexer": "ipython3",
   "version": "3.7.3"
  }
 },
 "nbformat": 4,
 "nbformat_minor": 2
}
